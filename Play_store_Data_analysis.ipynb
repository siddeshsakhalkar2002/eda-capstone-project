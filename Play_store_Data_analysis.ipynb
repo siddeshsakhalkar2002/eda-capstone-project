{
  "nbformat": 4,
  "nbformat_minor": 0,
  "metadata": {
    "colab": {
      "private_outputs": true,
      "provenance": [],
      "collapsed_sections": [
        "vncDsAP0Gaoa",
        "FJNUwmbgGyua",
        "w6K7xa23Elo4",
        "yQaldy8SH6Dl",
        "PH-0ReGfmX4f",
        "mDgbUHAGgjLW",
        "O_i_v8NEhb9l",
        "HhfV-JJviCcP",
        "Y3lxredqlCYt",
        "3RnN4peoiCZX",
        "x71ZqKXriCWQ",
        "7hBIi_osiCS2",
        "JlHwYmJAmNHm",
        "35m5QtbWiB9F",
        "PoPl-ycgm1ru",
        "H0kj-8xxnORC",
        "nA9Y7ga8ng1Z",
        "PBTbrJXOngz2",
        "u3PMJOP6ngxN",
        "dauF4eBmngu3",
        "bKJF3rekwFvQ",
        "MSa1f5Uengrz",
        "GF8Ens_Soomf",
        "0wOQAZs5pc--",
        "K5QZ13OEpz2H",
        "lQ7QKXXCp7Bj",
        "448CDAPjqfQr",
        "KSlN3yHqYklG",
        "t6dVpIINYklI",
        "ijmpgYnKYklI",
        "-JiQyfWJYklI",
        "EM7whBJCYoAo",
        "fge-S5ZAYoAp",
        "85gYPyotYoAp",
        "RoGjAbkUYoAp",
        "4Of9eVA-YrdM",
        "iky9q4vBYrdO",
        "F6T5p64dYrdO",
        "y-Ehk30pYrdP",
        "bamQiAODYuh1",
        "QHF8YVU7Yuh3",
        "GwzvFGzlYuh3",
        "qYpmQ266Yuh3",
        "OH-pJp9IphqM",
        "bbFf2-_FphqN",
        "_ouA3fa0phqN",
        "Seke61FWphqN",
        "PIIx-8_IphqN",
        "t27r6nlMphqO",
        "r2jJGEOYphqO",
        "b0JNsNcRphqO",
        "BZR9WyysphqO",
        "jj7wYXLtphqO",
        "eZrbJ2SmphqO",
        "rFu4xreNphqO",
        "YJ55k-q6phqO",
        "gCFgpxoyphqP",
        "OVtJsKN_phqQ",
        "lssrdh5qphqQ",
        "U2RJ9gkRphqQ",
        "1M8mcRywphqQ",
        "tgIPom80phqQ",
        "JMzcOPDDphqR",
        "x-EpHcCOp1ci",
        "X_VqEhTip1ck",
        "8zGJKyg5p1ck",
        "PVzmfK_Ep1ck",
        "n3dbpmDWp1ck",
        "ylSl6qgtp1ck",
        "ZWILFDl5p1ck",
        "M7G43BXep1ck",
        "Ag9LCva-p1cl",
        "E6MkPsBcp1cl",
        "2cELzS2fp1cl",
        "3MPXvC8up1cl",
        "NC_X3p0fY2L0",
        "UV0SzAkaZNRQ",
        "YPEH6qLeZNRQ",
        "q29F0dvdveiT",
        "EXh0U9oCveiU",
        "22aHeOlLveiV",
        "JcMwzZxoAimU",
        "8G2x9gOozGDZ",
        "gCX9965dhzqZ",
        "gIfDvo9L0UH2"
      ]
    },
    "kernelspec": {
      "name": "python3",
      "display_name": "Python 3"
    },
    "language_info": {
      "name": "python"
    }
  },
  "cells": [
    {
      "cell_type": "markdown",
      "source": [
        "# **Project Name**    - Play Store App Review Analysis\n",
        "\n"
      ],
      "metadata": {
        "id": "vncDsAP0Gaoa"
      }
    },
    {
      "cell_type": "markdown",
      "source": [
        "##### **Project Type**    - EDA\n",
        "##### **Contribution**    - Individual\n",
        "##### **Team Member 1 - Siddesh Sakhalkar**"
      ],
      "metadata": {
        "id": "beRrZCGUAJYm"
      }
    },
    {
      "cell_type": "markdown",
      "source": [
        "# **Project Summary -**"
      ],
      "metadata": {
        "id": "FJNUwmbgGyua"
      }
    },
    {
      "cell_type": "markdown",
      "source": [
        "\n",
        "\n",
        "The Google Play Store, previously known as the Android Market, is an online platform operated and developed by Google. It serves as the official app store for certified devices running on the Android operating system and its derivatives, as well as ChromeOS. Users can access and download applications developed using the Android software development kit (SDK) and published through Google. Additionally, Google Play also functions as a digital media store, offering a wide range of content such as games, music, books, movies, and television programs.\n",
        "\n",
        "In our current project, we have been provided with two datasets: Play Store data and User Reviews. Let's examine these datasets in detail:\n",
        "\n",
        "1. playstore data.csv: This file contains comprehensive information about various applications available on Google Play. It includes 13 different features that describe each app.\n",
        "\n",
        "2. user reviews.csv: This dataset consists of 100 reviews for each application, sorted in order of helpfulness. The reviews have undergone preprocessing and now include three new features: Sentiment (categorized as Positive, Negative, or Neutral), Sentiment Polarity, and Sentiment Subjectivity.\n",
        "\n",
        "Before delving into the provided data, it is essential to understand the concept of Exploratory Data Analysis (EDA).\n",
        "\n",
        "EDA involves generating summary statistics for numerical data and creating various graphical representations to gain insights into the dataset and make it visually appealing.\n",
        "\n",
        "The following are the key steps involved in the EDA process:\n",
        "\n",
        "1. Problem Statement: We will analyze and understand the given dataset, studying the attributes it contains, and pondering their significance and relevance to the problem at hand.\n",
        "\n",
        "2. Hypothesis: Based on our examination of the attributes, we will formulate some initial hypotheses to explore and manipulate the data, seeking diverse results.\n",
        "\n",
        "3. Univariate Analysis: This basic form of data analysis focuses on a single attribute at a time, describing and summarizing the data to identify patterns.\n",
        "\n",
        "4. Bivariate Analysis: This analysis investigates the relationships and dependencies between two attributes, looking for causal connections.\n",
        "\n",
        "5. Multivariate Analysis: When dealing with more than two variables simultaneously, we perform multivariate analysis.\n",
        "\n",
        "6. Data Cleaning: We will clean the dataset by handling missing data, outliers, and categorical variables.\n",
        "\n",
        "7. Testing Hypothesis: Before applying multivariate techniques, we will verify if our data meets the necessary assumptions.\n",
        "\n",
        "By following these steps, we can gain valuable insights from the data and draw meaningful conclusions for our project.\n"
      ],
      "metadata": {
        "id": "F6v_1wHtG2nS"
      }
    },
    {
      "cell_type": "markdown",
      "source": [
        "# **GitHub Link -**"
      ],
      "metadata": {
        "id": "w6K7xa23Elo4"
      }
    },
    {
      "cell_type": "markdown",
      "source": [
        "Provide your GitHub Link here."
      ],
      "metadata": {
        "id": "h1o69JH3Eqqn"
      }
    },
    {
      "cell_type": "markdown",
      "source": [
        "# **Problem Statement**\n"
      ],
      "metadata": {
        "id": "yQaldy8SH6Dl"
      }
    },
    {
      "cell_type": "markdown",
      "source": [
        "**Write Problem Statement Here.**"
      ],
      "metadata": {
        "id": "DpeJGUA3kjGy"
      }
    },
    {
      "cell_type": "markdown",
      "source": [
        "\n",
        "\n",
        "   1) What are the top categories on Play Store?\n",
        "\n",
        "   2) Are majority of the apps Paid or Free?\n",
        "\n",
        "   3) How importance is the rating of the application?\n",
        "\n",
        "   4) Which categories from the audience should the app be based on?\n",
        "\n",
        "   5) Which category has the most no. of installations?\n",
        "\n",
        "   6) How does the count of apps varies by Genres?\n",
        "\n",
        "   7) How does the last update has an effect on the rating?\n",
        "\n",
        "   8) How are ratings affected when the app is a paid one?\n",
        "\n",
        "   9) How are reviews and ratings co-related?\n",
        "\n",
        "   10) discuss the sentiment subjectivity.\n",
        "\n",
        "   11) Is subjectivity and polarity proportional to each other?\n",
        "\n",
        "   12) What is the percentage of review sentiments?\n",
        "\n",
        "   13) How is sentiment polarity varying for paid and free apps?\n",
        "   \n",
        "   14) How Content Rating affect over the App?\n",
        "\n"
      ],
      "metadata": {
        "id": "NxfI2Ae0B6Bb"
      }
    },
    {
      "cell_type": "markdown",
      "source": [
        "#### **Define Your Business Objective?**\n"
      ],
      "metadata": {
        "id": "PH-0ReGfmX4f"
      }
    },
    {
      "cell_type": "markdown",
      "source": [
        "The data from the Play Store apps presents a significant opportunity for app-making enterprises to achieve success. Valuable insights can be extracted to guide developers in creating apps that can capture the Android market. The dataset includes crucial information such as category, rating, size, and more for each app listed. Additionally, there is another dataset containing customer reviews for the Android apps. By thoroughly exploring and analyzing this data, we can uncover the critical factors that contribute to app engagement and overall success."
      ],
      "metadata": {
        "id": "PhDvGCAqmjP1"
      }
    },
    {
      "cell_type": "markdown",
      "source": [
        "# **General Guidelines** : -  "
      ],
      "metadata": {
        "id": "mDgbUHAGgjLW"
      }
    },
    {
      "cell_type": "markdown",
      "source": [
        "1.   Well-structured, formatted, and commented code is required.\n",
        "2.   Exception Handling, Production Grade Code & Deployment Ready Code will be a plus. Those students will be awarded some additional credits.\n",
        "     \n",
        "     The additional credits will have advantages over other students during Star Student selection.\n",
        "       \n",
        "             [ Note: - Deployment Ready Code is defined as, the whole .ipynb notebook should be executable in one go\n",
        "                       without a single error logged. ]\n",
        "\n",
        "3.   Each and every logic should have proper comments.\n",
        "4. You may add as many number of charts you want. Make Sure for each and every chart the following format should be answered.\n",
        "        \n",
        "\n",
        "```\n",
        "# Chart visualization code\n",
        "```\n",
        "            \n",
        "\n",
        "*   Why did you pick the specific chart?\n",
        "*   What is/are the insight(s) found from the chart?\n",
        "* Will the gained insights help creating a positive business impact?\n",
        "Are there any insights that lead to negative growth? Justify with specific reason.\n",
        "\n",
        "5. You have to create at least 20 logical & meaningful charts having important insights.\n",
        "\n",
        "\n",
        "[ Hints : - Do the Vizualization in  a structured way while following \"UBM\" Rule.\n",
        "\n",
        "U - Univariate Analysis,\n",
        "\n",
        "B - Bivariate Analysis (Numerical - Categorical, Numerical - Numerical, Categorical - Categorical)\n",
        "\n",
        "M - Multivariate Analysis\n",
        " ]\n",
        "\n",
        "\n",
        "\n"
      ],
      "metadata": {
        "id": "ZrxVaUj-hHfC"
      }
    },
    {
      "cell_type": "markdown",
      "source": [
        "# ***Let's Begin !***"
      ],
      "metadata": {
        "id": "O_i_v8NEhb9l"
      }
    },
    {
      "cell_type": "markdown",
      "source": [
        "## ***1. Know Your Data***"
      ],
      "metadata": {
        "id": "HhfV-JJviCcP"
      }
    },
    {
      "cell_type": "markdown",
      "source": [
        "### Import Libraries"
      ],
      "metadata": {
        "id": "Y3lxredqlCYt"
      }
    },
    {
      "cell_type": "code",
      "source": [
        "# Import Libraries\n",
        "import numpy as np\n",
        "import pandas as pd\n",
        "import matplotlib.pyplot as plt\n",
        "import seaborn as sns"
      ],
      "metadata": {
        "id": "M8Vqi-pPk-HR"
      },
      "execution_count": null,
      "outputs": []
    },
    {
      "cell_type": "markdown",
      "source": [
        "### Dataset Loading"
      ],
      "metadata": {
        "id": "3RnN4peoiCZX"
      }
    },
    {
      "cell_type": "code",
      "source": [
        "# Load Dataset\n",
        "from google.colab import files\n",
        "uploaded = files.upload()"
      ],
      "metadata": {
        "id": "4CkvbW_SlZ_R"
      },
      "execution_count": null,
      "outputs": []
    },
    {
      "cell_type": "markdown",
      "source": [
        "### Dataset First View"
      ],
      "metadata": {
        "id": "x71ZqKXriCWQ"
      }
    },
    {
      "cell_type": "code",
      "source": [
        "# Dataset First Look\n",
        "play_store_df = pd.read_csv('/content/Play Store Data (1).csv')\n",
        "user_reviews_df = pd.read_csv('/content/User Reviews (1).csv')"
      ],
      "metadata": {
        "id": "LWNFOSvLl09H"
      },
      "execution_count": null,
      "outputs": []
    },
    {
      "cell_type": "code",
      "source": [
        "play_store_df.head().T"
      ],
      "metadata": {
        "id": "YDnQ28NpFszC"
      },
      "execution_count": null,
      "outputs": []
    },
    {
      "cell_type": "code",
      "source": [
        "user_reviews_df.head()"
      ],
      "metadata": {
        "id": "Hung1DXsFxT2"
      },
      "execution_count": null,
      "outputs": []
    },
    {
      "cell_type": "markdown",
      "source": [
        "### Dataset Rows & Columns count"
      ],
      "metadata": {
        "id": "7hBIi_osiCS2"
      }
    },
    {
      "cell_type": "code",
      "source": [
        "# Dataset Rows & Columns count\n",
        "print(\"shape of PlayStore dataframe is \", play_store_df.shape)"
      ],
      "metadata": {
        "id": "Kllu7SJgmLij"
      },
      "execution_count": null,
      "outputs": []
    },
    {
      "cell_type": "code",
      "source": [
        "print(\"The shape of user review dataframe is \",user_reviews_df.shape)"
      ],
      "metadata": {
        "id": "pp2oRxVeFkGy"
      },
      "execution_count": null,
      "outputs": []
    },
    {
      "cell_type": "markdown",
      "source": [
        "### Dataset Information"
      ],
      "metadata": {
        "id": "JlHwYmJAmNHm"
      }
    },
    {
      "cell_type": "code",
      "source": [
        "# Dataset Info\n",
        "play_store_df.info()"
      ],
      "metadata": {
        "id": "e9hRXRi6meOf"
      },
      "execution_count": null,
      "outputs": []
    },
    {
      "cell_type": "code",
      "source": [
        "user_reviews_df.info()"
      ],
      "metadata": {
        "id": "Nl1ZXRr3Gb0j"
      },
      "execution_count": null,
      "outputs": []
    },
    {
      "cell_type": "markdown",
      "source": [
        "#### Duplicate Values"
      ],
      "metadata": {
        "id": "35m5QtbWiB9F"
      }
    },
    {
      "cell_type": "code",
      "source": [
        "# Dataset Duplicate Value Count\n",
        "\n",
        "print(\"Duplicate values for play store dataset \",play_store_df.duplicated().sum())\n",
        "print(\"Duplicate values for user reviews dataset \",user_reviews_df.duplicated().sum())"
      ],
      "metadata": {
        "id": "1sLdpKYkmox0"
      },
      "execution_count": null,
      "outputs": []
    },
    {
      "cell_type": "code",
      "source": [
        "temp_playstore_data = play_store_df.copy()\n",
        "temp_user_reviews = user_reviews_df.copy()"
      ],
      "metadata": {
        "id": "x0VvzUaBItBV"
      },
      "execution_count": null,
      "outputs": []
    },
    {
      "cell_type": "markdown",
      "source": [
        "#### Missing Values/Null Values"
      ],
      "metadata": {
        "id": "PoPl-ycgm1ru"
      }
    },
    {
      "cell_type": "code",
      "source": [
        "# Missing Values/Null Values Count\n",
        "plst_nvalues = temp_playstore_data.isnull().sum()\n",
        "print(\"Play Store data : \\n\",plst_nvalues)"
      ],
      "metadata": {
        "id": "GgHWkxvamxVg"
      },
      "execution_count": null,
      "outputs": []
    },
    {
      "cell_type": "code",
      "source": [
        "plst_nvalues.index"
      ],
      "metadata": {
        "id": "ENO_X-AjLjAM"
      },
      "execution_count": null,
      "outputs": []
    },
    {
      "cell_type": "code",
      "source": [
        "usrev_nvalues = temp_user_reviews.isnull().sum()\n",
        "print(\"Users review data: \\n\",usrev_nvalues)"
      ],
      "metadata": {
        "id": "8UAJCiCJJjNl"
      },
      "execution_count": null,
      "outputs": []
    },
    {
      "cell_type": "code",
      "source": [
        "plst_nvalues[plst_nvalues > 0]"
      ],
      "metadata": {
        "id": "qHEix3h3Tlqg"
      },
      "execution_count": null,
      "outputs": []
    },
    {
      "cell_type": "code",
      "source": [
        "# Visualizing the missing values\n",
        "#sns.barplot(data=plst_nvalues,x=plst_nvalues.index,y=plst_nvalues.values)\n",
        "plt.barh(plst_nvalues[plst_nvalues > 0].index,plst_nvalues[plst_nvalues > 0].values)\n",
        "plt.title('null values in play store data set')\n",
        "plt.xlabel('values')\n",
        "plt.ylabel('column having null values')"
      ],
      "metadata": {
        "id": "3q5wnI3om9sJ"
      },
      "execution_count": null,
      "outputs": []
    },
    {
      "cell_type": "code",
      "source": [
        "plt.barh(usrev_nvalues.index,usrev_nvalues.values)\n",
        "plt.title('null values in user review data set')\n",
        "plt.xlabel('values')\n",
        "plt.ylabel('column having null values')"
      ],
      "metadata": {
        "id": "6uitSO8dV7rV"
      },
      "execution_count": null,
      "outputs": []
    },
    {
      "cell_type": "markdown",
      "source": [
        "### What did you know about your dataset?"
      ],
      "metadata": {
        "id": "H0kj-8xxnORC"
      }
    },
    {
      "cell_type": "markdown",
      "source": [
        "The PlayStore dataset consists of '10841' rows and '13' columns, while the UserReview dataset contains '64295' rows and '5' columns.\n",
        "\n",
        "Both datasets have some missing values. In the PlayStore dataset, the Rating column has '1474' null values, the Type column has '1' null value, the Content Rating column has '1' null value, the Current Ver column has '8' null values, and the Android Ver column has '3' null values. Additionally, there are '483' duplicate rows in the PlayStore dataset.\n",
        "\n",
        "In the UserReview dataset, the Translated_Review column has '26868' null values, the Sentiment column has '26863' null values, the Sentiment_Polarity column has '26863' null values, and the Sentiment_Subjectivity column has '26863' null values. Moreover, '33616' duplicate rows are present in the UserReview dataset."
      ],
      "metadata": {
        "id": "gfoNAAC-nUe_"
      }
    },
    {
      "cell_type": "markdown",
      "source": [
        "## ***2. Understanding Your Variables***"
      ],
      "metadata": {
        "id": "nA9Y7ga8ng1Z"
      }
    },
    {
      "cell_type": "code",
      "source": [
        "# Dataset Columns\n",
        "temp_playstore_data.columns"
      ],
      "metadata": {
        "id": "j7xfkqrt5Ag5"
      },
      "execution_count": null,
      "outputs": []
    },
    {
      "cell_type": "code",
      "source": [
        "temp_user_reviews.columns"
      ],
      "metadata": {
        "id": "S1Xk3-9aXR5s"
      },
      "execution_count": null,
      "outputs": []
    },
    {
      "cell_type": "code",
      "source": [
        "# Dataset Describe\n",
        "temp_playstore_data.info()"
      ],
      "metadata": {
        "id": "DnOaZdaE5Q5t"
      },
      "execution_count": null,
      "outputs": []
    },
    {
      "cell_type": "code",
      "source": [
        "temp_playstore_data.describe()"
      ],
      "metadata": {
        "id": "AINCOM7yXrvb"
      },
      "execution_count": null,
      "outputs": []
    },
    {
      "cell_type": "code",
      "source": [
        "temp_user_reviews.info()"
      ],
      "metadata": {
        "id": "dWwZg4zEXzFe"
      },
      "execution_count": null,
      "outputs": []
    },
    {
      "cell_type": "code",
      "source": [
        "temp_user_reviews.describe()"
      ],
      "metadata": {
        "id": "Qpr1J5GJXy49"
      },
      "execution_count": null,
      "outputs": []
    },
    {
      "cell_type": "markdown",
      "source": [
        "### Variables Description"
      ],
      "metadata": {
        "id": "PBTbrJXOngz2"
      }
    },
    {
      "cell_type": "markdown",
      "source": [
        "## **Play store variables:**\n",
        "\n",
        "The dataset comprises 13 columns, each providing valuable information about the applications:\n",
        "\n",
        "  1.App - Represents the name of the application.\n",
        "\n",
        "  2.Category - Indicates the category to which an application belongs.\n",
        "\n",
        "  3.Rating - Represents the user ratings given to a specific application.\n",
        "\n",
        "  4.Reviews - Indicates the total number of user reviews for the application.\n",
        "\n",
        "  5.Size - Specifies the occupied size of the application on a mobile phone.\n",
        "\n",
        "  6.Installs - Indicates the total number of installs/downloads for an application.\n",
        "\n",
        "  7.Type - Specifies whether the application is free or paid.\n",
        "\n",
        "  8.Price - Represents the price of the application.\n",
        "\n",
        "  9.Content_Rating - Indicates the target audience for the application.\n",
        "\n",
        "  10.Genres - Specifies various other categories to which an application can belong.\n",
        "\n",
        "  11.Last_Updated - Indicates the date of the last update for the application.\n",
        "\n",
        "  12.Current_Ver - Represents the current version of the application.\n",
        "\n",
        "  13.Android_Ver - Specifies the minimum Android version required to support the application on its platform.\n",
        "\n",
        "  \n",
        "\n",
        "# **User review variables:**\n",
        "\n",
        "The dataset consists of 5 columns that provide insights into app reviews and user sentiments:\n",
        "\n",
        "  1.App - Contains the name or identifier of the app.\n",
        "\n",
        "  2.Translated_Review - Contains the text of the review.\n",
        "\n",
        "  3.Sentiment - Represents the overall sentiment of the review (e.g., positive or negative).\n",
        "  4.Sentiment_Polarity - Measures the positivity or negativity of the review.\n",
        "\n",
        "  5.Sentiment_Subjectivity - Measures the subjectivity or objectivity of the review.\n",
        "\n",
        "These variables can be leveraged for sentiment analysis of app reviews, helping to understand how users feel about different applications."
      ],
      "metadata": {
        "id": "aJV4KIxSnxay"
      }
    },
    {
      "cell_type": "markdown",
      "source": [
        "### Check Unique Values for each variable."
      ],
      "metadata": {
        "id": "u3PMJOP6ngxN"
      }
    },
    {
      "cell_type": "code",
      "source": [
        "# Check Unique Values for each variable.\n",
        "print('Play Store data set')\n",
        "print(temp_playstore_data.nunique())"
      ],
      "metadata": {
        "id": "zms12Yq5n-jE"
      },
      "execution_count": null,
      "outputs": []
    },
    {
      "cell_type": "code",
      "source": [
        "print('User review data set')\n",
        "print(temp_user_reviews.nunique())"
      ],
      "metadata": {
        "id": "-HoVdxvzbATK"
      },
      "execution_count": null,
      "outputs": []
    },
    {
      "cell_type": "markdown",
      "source": [
        "## 3. ***Data Wrangling***"
      ],
      "metadata": {
        "id": "dauF4eBmngu3"
      }
    },
    {
      "cell_type": "markdown",
      "source": [
        "### Data Wrangling Code"
      ],
      "metadata": {
        "id": "bKJF3rekwFvQ"
      }
    },
    {
      "cell_type": "markdown",
      "source": [
        "1) type"
      ],
      "metadata": {
        "id": "fPr53nqZcV0D"
      }
    },
    {
      "cell_type": "code",
      "source": [
        "# Write your code to make your dataset analysis ready.\n",
        "# Finding the row with insufficiant data\n",
        "mask = temp_playstore_data['Type']!='Free'\n",
        "temp_playstore_data[mask][temp_playstore_data[mask]['Price']=='0']\n"
      ],
      "metadata": {
        "id": "wk-9a2fpoLcV"
      },
      "execution_count": null,
      "outputs": []
    },
    {
      "cell_type": "code",
      "source": [
        "#Droping the row from the data frame\n",
        "temp_playstore_data.drop(temp_playstore_data[mask][temp_playstore_data[mask]['Price']=='0'].index, inplace=True)\n"
      ],
      "metadata": {
        "id": "_EHJnR3FcfZM"
      },
      "execution_count": null,
      "outputs": []
    },
    {
      "cell_type": "markdown",
      "source": [
        "2) Current Ver"
      ],
      "metadata": {
        "id": "iZhu8IE1dE7G"
      }
    },
    {
      "cell_type": "code",
      "source": [
        "# finding null values of this column\n",
        "temp_playstore_data[temp_playstore_data['Current Ver'].isnull()].T"
      ],
      "metadata": {
        "id": "BnbRLVIAdHry"
      },
      "execution_count": null,
      "outputs": []
    },
    {
      "cell_type": "code",
      "source": [
        "# Removing/droping null values\n",
        "temp_playstore_data.shape"
      ],
      "metadata": {
        "id": "Su_vAwt4ds00"
      },
      "execution_count": null,
      "outputs": []
    },
    {
      "cell_type": "code",
      "source": [
        "temp_playstore_data = temp_playstore_data[temp_playstore_data['Current Ver'].notna()]\n",
        "temp_playstore_data.shape"
      ],
      "metadata": {
        "id": "tIWBbxIEd2UX"
      },
      "execution_count": null,
      "outputs": []
    },
    {
      "cell_type": "markdown",
      "source": [
        "3) Android Ver"
      ],
      "metadata": {
        "id": "PN8aDJoqeJUN"
      }
    },
    {
      "cell_type": "code",
      "source": [
        "# finding null values of this column\n",
        "temp_playstore_data[temp_playstore_data['Android Ver'].isnull()].T"
      ],
      "metadata": {
        "id": "L6Vudof8eMEf"
      },
      "execution_count": null,
      "outputs": []
    },
    {
      "cell_type": "code",
      "source": [
        "# Removing/droping null values\n",
        "temp_playstore_data.shape"
      ],
      "metadata": {
        "id": "jiXa7V-pg5Ej"
      },
      "execution_count": null,
      "outputs": []
    },
    {
      "cell_type": "code",
      "source": [
        "temp_playstore_data = temp_playstore_data[temp_playstore_data['Android Ver'].notna()]\n",
        "temp_playstore_data.shape"
      ],
      "metadata": {
        "id": "DjQd3npig5BF"
      },
      "execution_count": null,
      "outputs": []
    },
    {
      "cell_type": "code",
      "source": [
        "temp_playstore_data.boxplot()"
      ],
      "metadata": {
        "id": "LIRXRSf0g499"
      },
      "execution_count": null,
      "outputs": []
    },
    {
      "cell_type": "markdown",
      "source": [
        "we have ratings which exceed the normal rating system i.e more than 5 as shown in the box plot"
      ],
      "metadata": {
        "id": "FyQFRyqCiSse"
      }
    },
    {
      "cell_type": "code",
      "source": [
        "temp_playstore_data['Rating'].unique()"
      ],
      "metadata": {
        "id": "wqmY86sag461"
      },
      "execution_count": null,
      "outputs": []
    },
    {
      "cell_type": "code",
      "source": [
        "temp_user_reviews.info()"
      ],
      "metadata": {
        "id": "HNuAN7NGikjT"
      },
      "execution_count": null,
      "outputs": []
    },
    {
      "cell_type": "code",
      "source": [
        "#Eliminating the null value rows from the database\n",
        "\n",
        "temp_user_reviews = temp_user_reviews[~temp_user_reviews['Sentiment'].isna()]\n",
        "temp_user_reviews.isna().sum()"
      ],
      "metadata": {
        "id": "yBop9Qisg436"
      },
      "execution_count": null,
      "outputs": []
    },
    {
      "cell_type": "code",
      "source": [],
      "metadata": {
        "id": "uiVQG4-wjFgM"
      },
      "execution_count": null,
      "outputs": []
    },
    {
      "cell_type": "code",
      "source": [
        "temp_user_reviews = temp_user_reviews.dropna(subset = ['Translated_Review'],how='all')\n",
        "temp_user_reviews.shape"
      ],
      "metadata": {
        "id": "agOBoHIbg40r"
      },
      "execution_count": null,
      "outputs": []
    },
    {
      "cell_type": "code",
      "source": [
        "temp_user_reviews.isna().sum()"
      ],
      "metadata": {
        "id": "OC6dh_05jX1_"
      },
      "execution_count": null,
      "outputs": []
    },
    {
      "cell_type": "markdown",
      "source": [
        "Data preparation"
      ],
      "metadata": {
        "id": "KJFjZyqijiSu"
      }
    },
    {
      "cell_type": "code",
      "source": [
        "playstore_data_copy = temp_playstore_data.copy()\n",
        "user_review_copy = temp_user_reviews.copy()"
      ],
      "metadata": {
        "id": "aNBY9nvfjkA8"
      },
      "execution_count": null,
      "outputs": []
    },
    {
      "cell_type": "code",
      "source": [
        "#Filtering duplicate apps\n",
        "duplicate_column_check = playstore_data_copy['App'].duplicated().any()\n",
        "duplicate_column_check\n"
      ],
      "metadata": {
        "id": "uxLYSyg-jvC2"
      },
      "execution_count": null,
      "outputs": []
    },
    {
      "cell_type": "code",
      "source": [
        "playstore_data_copy['App'].value_counts()"
      ],
      "metadata": {
        "id": "B5bm6Hk4j3zx"
      },
      "execution_count": null,
      "outputs": []
    },
    {
      "cell_type": "code",
      "source": [
        "# Apps and their counts\n",
        "dtye = playstore_data_copy.dtypes\n",
        "print(dtye)"
      ],
      "metadata": {
        "id": "9Atw1FR4j9wO"
      },
      "execution_count": null,
      "outputs": []
    },
    {
      "cell_type": "code",
      "source": [
        "# function to clean data\n",
        "def clean_data(num):\n",
        "    '''This function cleans data ,removes unwanted symbols'''\n",
        "    unwanted = {'+': '', ',': '', '$': '', 'M': '000000', 'k': '000', 'NaN': '0'}\n",
        "    for old, new in unwanted.items():\n",
        "        num = num.replace(old, new)\n",
        "    return num\n"
      ],
      "metadata": {
        "id": "9sh_Q3TBkGGk"
      },
      "execution_count": null,
      "outputs": []
    },
    {
      "cell_type": "code",
      "source": [
        "# Cleaning the unwanted charactors and converting the required column values into valid numeric type for easy analysis\n",
        "playstore_data_copy['Reviews'] = pd.to_numeric(playstore_data_copy['Reviews'])\n",
        "playstore_data_copy['Size'] = playstore_data_copy['Size'].apply(lambda x: 'NaN' if x == 'Varies with device' else x)\n",
        "playstore_data_copy['Size'] = pd.to_numeric(playstore_data_copy['Size'].map(clean_data))\n",
        "playstore_data_copy['Installs'] = pd.to_numeric(playstore_data_copy['Installs'].map(clean_data))\n",
        "playstore_data_copy['Price'] = pd.to_numeric(playstore_data_copy['Price'].map(clean_data))"
      ],
      "metadata": {
        "id": "zRfqguKbkGDG"
      },
      "execution_count": null,
      "outputs": []
    },
    {
      "cell_type": "code",
      "source": [
        "playstore_data_copy.info()"
      ],
      "metadata": {
        "id": "dOXg2onKkF_e"
      },
      "execution_count": null,
      "outputs": []
    },
    {
      "cell_type": "code",
      "source": [
        "#selecting all the last rows of data for each app for max review analysis\n",
        "playstore_last_rev = playstore_data_copy.groupby('App').tail(1).reset_index()\n",
        "\n",
        "app_review_max = playstore_last_rev.loc[playstore_last_rev.groupby(['App'])['Reviews'].idxmax()]\n",
        "app_review_max"
      ],
      "metadata": {
        "id": "s-FOcUankF78"
      },
      "execution_count": null,
      "outputs": []
    },
    {
      "cell_type": "code",
      "source": [
        "app_review_max.max()"
      ],
      "metadata": {
        "id": "2ml_Yvu3kF3f"
      },
      "execution_count": null,
      "outputs": []
    },
    {
      "cell_type": "code",
      "source": [
        "# Displaying Genres\n",
        "top_genres = app_review_max.Genres.value_counts().reset_index().rename(columns={'Genres':'Count','index':'Genres'})\n",
        "top_genres"
      ],
      "metadata": {
        "id": "h_67mhF_lhzo"
      },
      "execution_count": null,
      "outputs": []
    },
    {
      "cell_type": "code",
      "source": [
        "# displayin all free apps with max reviews\n",
        "app_review_max[app_review_max['Price'] == 0]"
      ],
      "metadata": {
        "id": "ZDzBW-tLlhvF"
      },
      "execution_count": null,
      "outputs": []
    },
    {
      "cell_type": "code",
      "source": [
        "#Preparing dataframe which contains free app install counts\n",
        "genres_free_apps_installs = app_review_max[app_review_max['Price'] == 0].groupby(['Genres'])[['Installs']].sum().rename(columns={'Installs':'free_app_installs'})\n",
        "genres_free_apps_installs"
      ],
      "metadata": {
        "id": "H-Gq1L73lhrN"
      },
      "execution_count": null,
      "outputs": []
    },
    {
      "cell_type": "code",
      "source": [
        "#Preparing dataframe which contains paid app install counts\n",
        "genres_paid_apps_installs = playstore_data_copy[playstore_data_copy['Price']!= 0].groupby(['Genres'])[['Installs']].sum().rename(columns={'Installs':'Paid_app_installs'})\n",
        "genres_paid_apps_installs"
      ],
      "metadata": {
        "id": "nxkoZb47lhm3"
      },
      "execution_count": null,
      "outputs": []
    },
    {
      "cell_type": "code",
      "source": [
        "#Preparing dataframe which contains mean Rating\n",
        "genre_ratings = app_review_max.groupby(['Genres'])[['Rating']].mean()\n",
        "genre_ratings"
      ],
      "metadata": {
        "id": "nc12crMjl8_B"
      },
      "execution_count": null,
      "outputs": []
    },
    {
      "cell_type": "code",
      "source": [
        "#Mergering all the data previous dataframes for further analysis\n",
        "top_genres_installs = pd.merge(top_genres, genres_free_apps_installs, on='Genres')\n",
        "top_genres_apps_installs = pd.merge(top_genres_installs, genres_paid_apps_installs, on='Genres')\n",
        "top_genres_apps_installs_ratings= pd.merge(top_genres_apps_installs, genre_ratings, on='Genres')"
      ],
      "metadata": {
        "id": "S7sRMqe3l87J"
      },
      "execution_count": null,
      "outputs": []
    },
    {
      "cell_type": "code",
      "source": [
        "#Getting top 50 app data based on the Genres\n",
        "top_50_genres = top_genres_apps_installs_ratings.head(50)\n",
        "top_50_genres"
      ],
      "metadata": {
        "id": "-6tqQK8Ql83W"
      },
      "execution_count": null,
      "outputs": []
    },
    {
      "cell_type": "markdown",
      "source": [
        "### What all manipulations have you done and insights you found?"
      ],
      "metadata": {
        "id": "MSa1f5Uengrz"
      }
    },
    {
      "cell_type": "markdown",
      "source": [
        "During our data analysis project, data cleaning emerged as a major challenge. Some reviews contained NaN (Not-a-Number) values, which required careful handling to ensure the integrity of our analysis. Even after merging both dataframes, the presence of these missing values impacted the accuracy of our results.\n",
        "\n",
        "In addition to the NaN values, we encountered several rows and columns with insufficient data, which necessitated their removal from the dataset. While this step reduced the dataset size, it was crucial to maintain data quality and reliability.\n",
        "\n",
        "One interesting finding during the analysis was the preference for free apps among users. This insight helped shape some of our conclusions and recommendations.\n",
        "\n",
        "To improve the accuracy of our analysis, we took specific measures to address the presence of null and NaN values. We employed appropriate techniques to fill or remove these missing data points based on the nature of the data and the impact on our analysis.\n",
        "\n",
        "Furthermore, data cleaning involved eliminating unwanted characters and converting certain column values into valid numeric types. By doing so, we ensured that the data was in a consistent format, making it easier to perform various analytical tasks.\n",
        "\n",
        "Overall, overcoming these data cleaning challenges was essential for conducting reliable and insightful analyses, ultimately leading to valuable conclusions and actionable insights."
      ],
      "metadata": {
        "id": "LbyXE7I1olp8"
      }
    },
    {
      "cell_type": "markdown",
      "source": [
        "## ***4. Data Vizualization, Storytelling & Experimenting with charts : Understand the relationships between variables***"
      ],
      "metadata": {
        "id": "GF8Ens_Soomf"
      }
    },
    {
      "cell_type": "markdown",
      "source": [
        "#### Chart - 1"
      ],
      "metadata": {
        "id": "0wOQAZs5pc--"
      }
    },
    {
      "cell_type": "code",
      "source": [
        "# Chart - 1 visualization code\n",
        "# Heat map for play_store\n",
        "plt.figure(figsize = (10,5))\n",
        "sns.heatmap(playstore_data_copy.corr(numeric_only=True), annot= True)\n",
        "plt.title('Corelation Heatmap for Playstore Data', size=15)"
      ],
      "metadata": {
        "id": "7v_ESjsspbW7"
      },
      "execution_count": null,
      "outputs": []
    },
    {
      "cell_type": "markdown",
      "source": [
        "##### 1. Why did you pick the specific chart?"
      ],
      "metadata": {
        "id": "K5QZ13OEpz2H"
      }
    },
    {
      "cell_type": "markdown",
      "source": [
        "The specific chart, a heat map, was chosen for graphical representation because it is effective in visualizing and exploring patterns and trends in data contained in a matrix, where individual values are represented as colors. Heat maps allow for a quick understanding of relationships and correlations between different variables, making it suitable for the given dataset."
      ],
      "metadata": {
        "id": "XESiWehPqBRc"
      }
    },
    {
      "cell_type": "markdown",
      "source": [
        "##### 2. What is/are the insight(s) found from the chart?"
      ],
      "metadata": {
        "id": "lQ7QKXXCp7Bj"
      }
    },
    {
      "cell_type": "markdown",
      "source": [
        "The insights obtained from the heat map are as follows:\n",
        "\n",
        "  1.There is a strong positive correlation between the \"Installs\" and \"Reviews\" columns. This indicates that as the number of installs increases, there is a higher user base, leading to a larger number of total reviews posted by users.\n",
        "\n",
        "  2.The \"Price\" column shows a slight negative correlation with the \"Rating,\" \"Reviews,\" and \"Installs.\" This suggests that as the prices of the apps increase, the average rating, total number of reviews, and installs tend to decrease gradually.\n",
        "\n",
        "  3.The \"Rating\" column exhibits a marginal positive correlation with the \"Installs\" and \"Reviews\" columns. This indicates that as the average user rating of an app increases, there is a tendency for both the number of app installs and the number of reviews to increase as well."
      ],
      "metadata": {
        "id": "C_j1G7yiqdRP"
      }
    },
    {
      "cell_type": "markdown",
      "source": [
        "##### 3. Will the gained insights help creating a positive business impact?\n",
        "Are there any insights that lead to negative growth? Justify with specific reason."
      ],
      "metadata": {
        "id": "448CDAPjqfQr"
      }
    },
    {
      "cell_type": "markdown",
      "source": [
        "Based on the above observations, it can be concluded that the insights gained from the heat map will likely have a positive impact on the business. The strong positive correlation between the number of installs and reviews suggests that as more users install the app, there will be a higher likelihood of receiving reviews, which can potentially attract even more users due to positive social proof. Similarly, the marginal positive correlation between the app's rating and its installs and reviews indicates that maintaining or improving the app's rating could lead to increased user engagement and growth.\n",
        "\n",
        "As for negative growth, the insights do not directly indicate any negative impact. However, the slight negative correlation between the app's price and its rating, reviews, and installs may suggest that increasing the app's price could lead to reduced user engagement and adoption. To validate this potential negative impact, further analysis and experimentation may be necessary to understand how users respond to price changes and whether it affects overall growth and revenue in the long run."
      ],
      "metadata": {
        "id": "3cspy4FjqxJW"
      }
    },
    {
      "cell_type": "markdown",
      "source": [
        "#### Chart - 2"
      ],
      "metadata": {
        "id": "KSlN3yHqYklG"
      }
    },
    {
      "cell_type": "code",
      "source": [
        "# Chart - 2 visualization code\n",
        "plt.figure(figsize=(12, 4))\n",
        "sns.lineplot(data=top_50_genres, x='Genres', y='Count')\n",
        "plt.xticks(range(len(top_50_genres['Genres'])), top_50_genres['Genres'], rotation=90)\n",
        "plt.title('Top 50 Genres VS App Counts')\n",
        "plt.ylabel('Number of Applications')\n",
        "plt.xlabel('Genres')\n",
        "plt.rc('font', size=14)\n",
        "plt.show()"
      ],
      "metadata": {
        "id": "R4YgtaqtYklH"
      },
      "execution_count": null,
      "outputs": []
    },
    {
      "cell_type": "markdown",
      "source": [
        "##### 1. Why did you pick the specific chart?"
      ],
      "metadata": {
        "id": "t6dVpIINYklI"
      }
    },
    {
      "cell_type": "markdown",
      "source": [
        "To visualize genres vs app count"
      ],
      "metadata": {
        "id": "5aaW0BYyYklI"
      }
    },
    {
      "cell_type": "markdown",
      "source": [
        "##### 2. What is/are the insight(s) found from the chart?"
      ],
      "metadata": {
        "id": "ijmpgYnKYklI"
      }
    },
    {
      "cell_type": "markdown",
      "source": [
        "  1.The top three genres with the highest app counts are 'Tools,' 'Entertainment,' and 'Education.'\n",
        "\n",
        "  2.Among all the genres, 'Tools' has the highest number of apps.\n",
        "  \n",
        "  3.Conversely, the 'Board' and 'Brain Games' genre has the lowest app count."
      ],
      "metadata": {
        "id": "PSx9atu2YklI"
      }
    },
    {
      "cell_type": "markdown",
      "source": [
        "##### 3. Will the gained insights help creating a positive business impact?\n",
        "Are there any insights that lead to negative growth? Justify with specific reason."
      ],
      "metadata": {
        "id": "-JiQyfWJYklI"
      }
    },
    {
      "cell_type": "markdown",
      "source": [
        "The findings from the comparison of app genres may not have a direct impact on business strategy. However, it provides valuable insights into user preferences and the popularity of different genres. The dominance of 'Tools' suggests a high demand for productivity and utility apps, which can be relevant for businesses targeting this segment. Understanding that 'Entertainment' and 'Education' genres are also popular indicates potential areas for content development or advertising. While the specific analysis may not directly impact business decisions, it offers a deeper understanding of app usage patterns and user interests, which can be leveraged for marketing and product development strategies. Additionally, recognizing the popularity of 'Tools' indicates an opportunity for businesses to create or collaborate with app developers in this category, considering the wide appeal of such apps due to their ability to streamline work and enhance efficiency."
      ],
      "metadata": {
        "id": "BcBbebzrYklV"
      }
    },
    {
      "cell_type": "markdown",
      "source": [
        "#### Chart - 3"
      ],
      "metadata": {
        "id": "EM7whBJCYoAo"
      }
    },
    {
      "cell_type": "code",
      "source": [
        "playstore_data_copy.Category"
      ],
      "metadata": {
        "id": "9yJGz2TqtKMK"
      },
      "execution_count": null,
      "outputs": []
    },
    {
      "cell_type": "code",
      "source": [
        "plt.figure(figsize=(10, 7))\n",
        "plt.style.use(\"fivethirtyeight\")\n",
        "\n",
        "# Count the occurrences of each category and get the top 10 categories by count\n",
        "top_categories = playstore_data_copy['Category'].value_counts().head(10)\n",
        "\n",
        "# Create the bar chart\n",
        "plt.bar(top_categories.index, top_categories.values)\n",
        "\n",
        "plt.xlabel(\"Category -------------->\", fontsize=15)\n",
        "plt.ylabel(\"Count -------------->\", fontsize=15)\n",
        "plt.title(\"Count of Applications in Each Category\")\n",
        "plt.xticks(rotation=90)\n",
        "\n",
        "plt.tight_layout()\n",
        "plt.show()"
      ],
      "metadata": {
        "id": "_Vx3EQw9uiFv"
      },
      "execution_count": null,
      "outputs": []
    },
    {
      "cell_type": "markdown",
      "source": [
        "##### 1. Why did you pick the specific chart?"
      ],
      "metadata": {
        "id": "fge-S5ZAYoAp"
      }
    },
    {
      "cell_type": "markdown",
      "source": [
        "The bar plot was chosen for its effectiveness in visualizing and comparing the counts of different app genres. It presents the data in a clear and straightforward manner, making it easy to interpret and draw insights from the information. The bar plot's vertical bars represent each Category wise count, allowing for quick comparison between Category and identifying the number of counts."
      ],
      "metadata": {
        "id": "5dBItgRVYoAp"
      }
    },
    {
      "cell_type": "markdown",
      "source": [
        "##### 2. What is/are the insight(s) found from the chart?"
      ],
      "metadata": {
        "id": "85gYPyotYoAp"
      }
    },
    {
      "cell_type": "markdown",
      "source": [
        "The 'Family' and 'Game' category rules the play store market, followed by Tools, Medical, and Business. The information will understand our daily requirements and fill the market with similar apps."
      ],
      "metadata": {
        "id": "4jstXR6OYoAp"
      }
    },
    {
      "cell_type": "markdown",
      "source": [
        "##### 3. Will the gained insights help creating a positive business impact?\n",
        "Are there any insights that lead to negative growth? Justify with specific reason."
      ],
      "metadata": {
        "id": "RoGjAbkUYoAp"
      }
    },
    {
      "cell_type": "markdown",
      "source": [
        "Yes, the gained insights can potentially help create a positive business impact. Understanding that the 'Family' and 'Game' categories dominate the Play Store market indicates that there is a significant demand for apps in these genres. This knowledge can guide businesses to develop or invest in apps that cater to family-oriented entertainment and gaming, potentially leading to increased user engagement and revenue generation.\n",
        "\n",
        "Furthermore, recognizing the popularity of 'Tools,' 'Medical,' and 'Business' genres can inspire businesses to explore opportunities in these areas. Developing apps that fulfill daily requirements in these categories could address specific needs and attract a sizable user base. For instance, creating productivity tools, medical apps, or business-related utilities may prove to be profitable ventures, given their relevance to users' daily lives."
      ],
      "metadata": {
        "id": "zfJ8IqMcYoAp"
      }
    },
    {
      "cell_type": "markdown",
      "source": [
        "#### Chart - 4"
      ],
      "metadata": {
        "id": "4Of9eVA-YrdM"
      }
    },
    {
      "cell_type": "code",
      "source": [
        "# Chart - 4 visualization code\n",
        "scene_3=playstore_data_copy.groupby([\"Category\",\"Type\"])[\"App\"].count().reset_index()\n",
        "point_3=pd.DataFrame(scene_3)\n",
        "# we are plotting bar plot for above grouped dataframe\n",
        "plt.figure(figsize=(10,6))\n",
        "plt.style.use(\"fivethirtyeight\")\n",
        "sns.barplot(x=\"Category\",y=\"App\",hue=\"Type\",data=point_3)\n",
        "plt.xlabel(\"Category--------->\", fontsize=11)\n",
        "plt.ylabel(\"Count--------->\", fontsize=11)\n",
        "plt.title(\"Count of applications in each category differentiated by their type\")\n",
        "plt.xticks(rotation=90)\n",
        "plt.show();"
      ],
      "metadata": {
        "id": "irlUoxc8YrdO"
      },
      "execution_count": null,
      "outputs": []
    },
    {
      "cell_type": "markdown",
      "source": [
        "##### 1. Why did you pick the specific chart?"
      ],
      "metadata": {
        "id": "iky9q4vBYrdO"
      }
    },
    {
      "cell_type": "markdown",
      "source": [
        "The specific chart, a bar plot, was chosen to visualize the relationship between the \"Category\" and \"App\" variables, with differentiation based on the \"Type\" variable. The bar plot is well-suited for this purpose because it allows us to compare the counts of different apps (y-axis) across various categories (x-axis) while also considering the app type is free or paid."
      ],
      "metadata": {
        "id": "aJRCwT6DYrdO"
      }
    },
    {
      "cell_type": "markdown",
      "source": [
        "##### 2. What is/are the insight(s) found from the chart?"
      ],
      "metadata": {
        "id": "F6T5p64dYrdO"
      }
    },
    {
      "cell_type": "markdown",
      "source": [
        "It looks like certain app categories have more free apps available for download than others. The majority of apps in the Family, Food & Drink, and Tools, as well as Social categories were free to install.\n",
        "At the same time Family, Sports, Tools, and Medical categories had the biggest number of paid apps available for download."
      ],
      "metadata": {
        "id": "Xx8WAJvtYrdO"
      }
    },
    {
      "cell_type": "markdown",
      "source": [
        "##### 3. Will the gained insights help creating a positive business impact?\n",
        "Are there any insights that lead to negative growth? Justify with specific reason."
      ],
      "metadata": {
        "id": "y-Ehk30pYrdP"
      }
    },
    {
      "cell_type": "markdown",
      "source": [
        "The insights can help create a positive business impact by guiding app development and monetization strategies. Offering free apps in Family, Food & Drink, Tools, and Social categories can attract a larger user base and revenue through ads or in-app purchases. Developing paid apps in Family, Sports, Tools, and Medical categories can target niche markets and generate revenue from app purchases."
      ],
      "metadata": {
        "id": "jLNxxz7MYrdP"
      }
    },
    {
      "cell_type": "markdown",
      "source": [
        "#### Chart - 5"
      ],
      "metadata": {
        "id": "bamQiAODYuh1"
      }
    },
    {
      "cell_type": "code",
      "source": [
        "# Chart - 5 visualization code\n",
        "scene_1=(playstore_data_copy.groupby(\"Category\").agg({\"Installs\":\"mean\"})\n",
        "        .sort_values(by=\"Installs\",ascending=False)\n",
        "        .reset_index().head(7))\n",
        "point_1=pd.DataFrame(scene_1)\n",
        "\n",
        "# we are plotting bar plot for above grouped dataframe\n",
        "plt.figure(figsize=(10,5))\n",
        "plt.style.use(\"fivethirtyeight\")\n",
        "sns.barplot(y=\"Installs\",x=\"Category\",data=point_1)\n",
        "plt.xlabel(\"Category-------------->\", fontsize=15)\n",
        "plt.ylabel(\"Installs-------------->\", fontsize=15)\n",
        "plt.title(\"Number of Installs in each category\")\n",
        "plt.xticks(rotation=90)\n",
        "plt.show();"
      ],
      "metadata": {
        "id": "TIJwrbroYuh3"
      },
      "execution_count": null,
      "outputs": []
    },
    {
      "cell_type": "markdown",
      "source": [
        "##### 1. Why did you pick the specific chart?"
      ],
      "metadata": {
        "id": "QHF8YVU7Yuh3"
      }
    },
    {
      "cell_type": "markdown",
      "source": [
        "The bar plot was chosen for its effectiveness in visualizing and comparing the counts of different app genres. It presents the data in a clear and straightforward manner, making it easy to interpret and draw insights from the information. The bar plot's vertical bars represent each Category wise count, allowing for quick comparison between Category and identifying the number of counts"
      ],
      "metadata": {
        "id": "dcxuIMRPYuh3"
      }
    },
    {
      "cell_type": "markdown",
      "source": [
        "##### 2. What is/are the insight(s) found from the chart?"
      ],
      "metadata": {
        "id": "GwzvFGzlYuh3"
      }
    },
    {
      "cell_type": "markdown",
      "source": [
        "The top 7 categories with the most apps developed are Communication, Social, Video Player, Productivity, Game, Photography, and Travel.\n"
      ],
      "metadata": {
        "id": "uyqkiB8YYuh3"
      }
    },
    {
      "cell_type": "markdown",
      "source": [
        "##### 3. Will the gained insights help creating a positive business impact?\n",
        "Are there any insights that lead to negative growth? Justify with specific reason."
      ],
      "metadata": {
        "id": "qYpmQ266Yuh3"
      }
    },
    {
      "cell_type": "markdown",
      "source": [
        "the most installed app categories align with the most developed categories, including Communication, Social, Video Player, Productivity, Game, Photography, and Travel, provides valuable guidance for businesses. This alignment indicates that there is a strong user demand for apps in these categories, making them potential lucrative areas for app development and investment."
      ],
      "metadata": {
        "id": "_WtzZ_hCYuh4"
      }
    },
    {
      "cell_type": "markdown",
      "source": [
        "#### Chart - 6"
      ],
      "metadata": {
        "id": "OH-pJp9IphqM"
      }
    },
    {
      "cell_type": "code",
      "source": [
        "categrory_price_mean = playstore_data_copy[playstore_data_copy['Price'] !=  0].groupby(['Category'])['Price'].mean().reset_index(name='Price')\n",
        "plt.figure(figsize=(10, 8))\n",
        "ax = sns.stripplot(x='Price', y='Category', data=categrory_price_mean, jitter=True, linewidth=2)\n",
        "ax.set_title('App pricing trend across categories(in USD)')"
      ],
      "metadata": {
        "id": "LbVUmPRU7lDn"
      },
      "execution_count": null,
      "outputs": []
    },
    {
      "cell_type": "markdown",
      "source": [
        "##### 1. Why did you pick the specific chart?"
      ],
      "metadata": {
        "id": "bbFf2-_FphqN"
      }
    },
    {
      "cell_type": "markdown",
      "source": [
        "To show pricing across categories for Paid apps"
      ],
      "metadata": {
        "id": "loh7H2nzphqN"
      }
    },
    {
      "cell_type": "markdown",
      "source": [
        "##### 2. What is/are the insight(s) found from the chart?"
      ],
      "metadata": {
        "id": "_ouA3fa0phqN"
      }
    },
    {
      "cell_type": "markdown",
      "source": [
        "\n",
        " 1) Most apps are priced under 25USD.\n",
        "\n",
        " 2)Finance category has the highest priced app followed by lifestyle.\n",
        "\n",
        " 3)Lowest priced category is libraries and demo\n"
      ],
      "metadata": {
        "id": "VECbqPI7phqN"
      }
    },
    {
      "cell_type": "markdown",
      "source": [
        "##### 3. Will the gained insights help creating a positive business impact?\n",
        "Are there any insights that lead to negative growth? Justify with specific reason."
      ],
      "metadata": {
        "id": "Seke61FWphqN"
      }
    },
    {
      "cell_type": "markdown",
      "source": [
        "As this is just the trend of pricing categories this may not decide the buisness. But what it gives out is an idea of on how much an app can charge according to there particular category and what their competitors are charging in the market"
      ],
      "metadata": {
        "id": "DW4_bGpfphqN"
      }
    },
    {
      "cell_type": "markdown",
      "source": [
        "#### Chart - 7"
      ],
      "metadata": {
        "id": "PIIx-8_IphqN"
      }
    },
    {
      "cell_type": "code",
      "source": [
        "# Chart - 7 visualization code\n",
        "rating_df = playstore_data_copy[~playstore_data_copy['Rating'].isna()]['Rating']\n",
        "\n",
        "plt.style.use(\"fivethirtyeight\")\n",
        "\n",
        "plt.figure(figsize=(10, 6))\n",
        "plt.title('Histogram of Ratings')\n",
        "sns.histplot(rating_df, kde=True, color='g')\n",
        "\n",
        "plt.xlabel('Rating')\n",
        "plt.ylabel('Frequency')\n",
        "\n",
        "plt.tight_layout()\n",
        "plt.show()"
      ],
      "metadata": {
        "id": "lqAIGUfyphqO"
      },
      "execution_count": null,
      "outputs": []
    },
    {
      "cell_type": "markdown",
      "source": [
        "##### 1. Why did you pick the specific chart?"
      ],
      "metadata": {
        "id": "t27r6nlMphqO"
      }
    },
    {
      "cell_type": "markdown",
      "source": [
        "To find analysis based on App Rating. We get a summarized information of liked and disliked app by a number of users all around the world."
      ],
      "metadata": {
        "id": "iv6ro40sphqO"
      }
    },
    {
      "cell_type": "markdown",
      "source": [
        "##### 2. What is/are the insight(s) found from the chart?"
      ],
      "metadata": {
        "id": "r2jJGEOYphqO"
      }
    },
    {
      "cell_type": "markdown",
      "source": [
        "\n",
        "  1)Most apps have the rating between 4 to 5.\n",
        "\n",
        "  2)Also shows us most apps are liked by many users depending on ease of use, funtionality, performance and less bugs.\n"
      ],
      "metadata": {
        "id": "Po6ZPi4hphqO"
      }
    },
    {
      "cell_type": "markdown",
      "source": [
        "##### 3. Will the gained insights help creating a positive business impact?\n",
        "Are there any insights that lead to negative growth? Justify with specific reason."
      ],
      "metadata": {
        "id": "b0JNsNcRphqO"
      }
    },
    {
      "cell_type": "markdown",
      "source": [
        "Definetly a positive impact on bussiness.Because now they have the users trust they can experiment on scaling the app and with pricing. Increrase their functionality globally. Reduces adverisement cost. Mainly they can also divert this taffic to thier next projects which helps them becoming a brand."
      ],
      "metadata": {
        "id": "xvSq8iUTphqO"
      }
    },
    {
      "cell_type": "markdown",
      "source": [
        "#### Chart - 8"
      ],
      "metadata": {
        "id": "BZR9WyysphqO"
      }
    },
    {
      "cell_type": "code",
      "source": [
        "# Chart - 8 visualization code\n",
        "category_mean_rating = playstore_data_copy.groupby(['Category'])['Rating'].mean().reset_index(name='Rating')\n",
        "category_mean_rating.set_index('Category').plot(kind='bar' , color = 'c')\n",
        "plt.style.use(\"fivethirtyeight\")  # Apply the \"fivethirtyeight\" style\n",
        "plt.rcParams['figure.figsize'] = (12, 7)\n",
        "#category_mean_rating.set_index('Category').plot(kind='bar', color='c')\n",
        "plt.title('Category VS Mean Rating')\n",
        "plt.ylabel('Ratings out of 5')\n",
        "plt.xlabel('Category')\n",
        "plt.xticks(rotation=90)  # Rotate the x-axis tick labels for better readability\n",
        "plt.tight_layout()\n",
        "plt.show()"
      ],
      "metadata": {
        "id": "TdPTWpAVphqO"
      },
      "execution_count": null,
      "outputs": []
    },
    {
      "cell_type": "markdown",
      "source": [
        "##### 1. Why did you pick the specific chart?"
      ],
      "metadata": {
        "id": "jj7wYXLtphqO"
      }
    },
    {
      "cell_type": "markdown",
      "source": [
        "To find Category wise mean Rating"
      ],
      "metadata": {
        "id": "Ob8u6rCTphqO"
      }
    },
    {
      "cell_type": "markdown",
      "source": [
        "##### 2. What is/are the insight(s) found from the chart?"
      ],
      "metadata": {
        "id": "eZrbJ2SmphqO"
      }
    },
    {
      "cell_type": "markdown",
      "source": [
        "\n",
        "    \n",
        "    \n",
        "\n",
        "\n",
        "1.  Most categories have the rating between 4 to 5\n",
        "2.  Also shows us most categories are liked by many users depending on ease of use, funtionality, performance and less bugs\n",
        "\n"
      ],
      "metadata": {
        "id": "mZtgC_hjphqO"
      }
    },
    {
      "cell_type": "markdown",
      "source": [
        "##### 3. Will the gained insights help creating a positive business impact?\n",
        "Are there any insights that lead to negative growth? Justify with specific reason."
      ],
      "metadata": {
        "id": "rFu4xreNphqO"
      }
    },
    {
      "cell_type": "markdown",
      "source": [
        "Definetly a positive impact on buisness.Because now they have the users trust they can experiment on scaling the app and with pricing. Increrase their functionality globally. Reduces adverisement cost. Mainly they can also divert this taffic to thier next projects which helps them becoming a brand."
      ],
      "metadata": {
        "id": "ey_0qi68phqO"
      }
    },
    {
      "cell_type": "markdown",
      "source": [
        "#### Chart - 9"
      ],
      "metadata": {
        "id": "YJ55k-q6phqO"
      }
    },
    {
      "cell_type": "code",
      "source": [
        "#Ratings given by different age of people\n",
        "content_rating = playstore_data_copy['Content Rating'].value_counts()\n",
        "content_rating"
      ],
      "metadata": {
        "id": "nw8BaB3T-2D_"
      },
      "execution_count": null,
      "outputs": []
    },
    {
      "cell_type": "code",
      "source": [
        "# Chart - 9 visualization code\n",
        "plt.figure(figsize=(10, 7))\n",
        "plt.style.use(\"fivethirtyeight\")\n",
        "labels = content_rating.index\n",
        "explode = (0.1, 0.2, 0.3, 0.4, 0.5, 0.1)\n",
        "\n",
        "# Create the pie chart\n",
        "plt.pie(content_rating, labels=labels, explode= (0.1,0.2,0.3,0.4,0.5,0.1), autopct='%1.2f%%', startangle=140,\n",
        "        textprops={'fontsize': 15}, pctdistance=0.85, labeldistance=1.05)\n",
        "\n",
        "plt.title('Content Rating Distribution')\n",
        "plt.axis('equal')\n",
        "plt.legend(labels, title=\"Content Rating\", bbox_to_anchor=(1, 0.8))\n",
        "plt.tight_layout()\n",
        "plt.show()"
      ],
      "metadata": {
        "id": "B2aS4O1ophqO"
      },
      "execution_count": null,
      "outputs": []
    },
    {
      "cell_type": "markdown",
      "source": [
        "##### 1. Why did you pick the specific chart?"
      ],
      "metadata": {
        "id": "gCFgpxoyphqP"
      }
    },
    {
      "cell_type": "markdown",
      "source": [
        "To find ratings given by different age group of people"
      ],
      "metadata": {
        "id": "TVxDimi2phqP"
      }
    },
    {
      "cell_type": "markdown",
      "source": [
        "##### 2. What is/are the insight(s) found from the chart?"
      ],
      "metadata": {
        "id": "OVtJsKN_phqQ"
      }
    },
    {
      "cell_type": "markdown",
      "source": [
        "\n",
        "\n",
        "1.  Most of the apps are used by all age groups of people\n",
        "  Lowest is the adults only\n",
        "    \n",
        "    \n",
        "\n",
        "2.   Most apps were created keeping every age group in mind.\n",
        "\n"
      ],
      "metadata": {
        "id": "ngGi97qjphqQ"
      }
    },
    {
      "cell_type": "markdown",
      "source": [
        "##### 3. Will the gained insights help creating a positive business impact?\n",
        "Are there any insights that lead to negative growth? Justify with specific reason."
      ],
      "metadata": {
        "id": "lssrdh5qphqQ"
      }
    },
    {
      "cell_type": "markdown",
      "source": [
        "Going with this content rating most creators are targeting every age group. So that would be the wise choise to go for a positive business impact. Choosing teen content as the niche category can also feature growth. Mostly family-friendly content categories will win the race"
      ],
      "metadata": {
        "id": "tBpY5ekJphqQ"
      }
    },
    {
      "cell_type": "markdown",
      "source": [
        "#### Chart - 10"
      ],
      "metadata": {
        "id": "U2RJ9gkRphqQ"
      }
    },
    {
      "cell_type": "code",
      "source": [
        "#Getting the top downloaded 10 apps and their Ratings vs Reviews\n",
        "top_downloaded_apps = playstore_data_copy.groupby('App').tail(1).sort_values(['Installs','Rating'], ascending=False).head(50)\n",
        "top_10_downloaded_apps = top_downloaded_apps.head(10).set_index('App')[['Rating','Reviews']].sort_values(['Reviews'])"
      ],
      "metadata": {
        "id": "U7l9FgFnBZks"
      },
      "execution_count": null,
      "outputs": []
    },
    {
      "cell_type": "code",
      "source": [
        "# Chart - 10 visualization code\n",
        "ind = top_10_downloaded_apps.index\n",
        "column0 = top_10_downloaded_apps['Reviews']\n",
        "column1 = top_10_downloaded_apps['Rating']\n",
        "title0 = 'Total ratings out of 5'\n",
        "title1 = 'Total reviews in 10 millions'\n",
        "plt.style.use(\"fivethirtyeight\")\n",
        "\n",
        "fig, axes = plt.subplots(figsize=(10,5), ncols=2, sharey=True)\n",
        "fig.tight_layout()\n",
        "\n",
        "axes[0].barh(ind, column0, align='center', color='g', zorder=10)\n",
        "axes[0].set_title(title0, fontsize=18, pad=15, color='g')\n",
        "axes[1].barh(ind, column1, align='center', color='b', zorder=10)\n",
        "axes[1].set_title(title1, fontsize=18, pad=15, color='b')\n",
        "\n",
        "# If you have positive numbers and want to invert the x-axis of the left plot\n",
        "axes[0].invert_xaxis()\n",
        "\n",
        "# To show data from highest to lowest\n",
        "# plt.gca().invert_yaxis()\n",
        "axes[0].set(yticks=ind, yticklabels=ind)\n",
        "axes[0].yaxis.tick_left()\n",
        "\n",
        "axes[0].set_xticklabels([1, 2, 3, 4, 5])\n",
        "axes[1].set_xticklabels([0, 10, 20, 30, 40, 50])\n",
        "\n",
        "plt.subplots_adjust(wspace=0, top=0.85, bottom=0.1, left=0.18, right=0.95)\n",
        "\n",
        "plt.show()\n"
      ],
      "metadata": {
        "id": "GM7a4YP4phqQ"
      },
      "execution_count": null,
      "outputs": []
    },
    {
      "cell_type": "markdown",
      "source": [
        "##### 1. Why did you pick the specific chart?"
      ],
      "metadata": {
        "id": "1M8mcRywphqQ"
      }
    },
    {
      "cell_type": "markdown",
      "source": [
        "To get the top downloaded 10 apps and their Ratings vs Reviews"
      ],
      "metadata": {
        "id": "8agQvks0phqQ"
      }
    },
    {
      "cell_type": "markdown",
      "source": [
        "##### 2. What is/are the insight(s) found from the chart?"
      ],
      "metadata": {
        "id": "tgIPom80phqQ"
      }
    },
    {
      "cell_type": "markdown",
      "source": [
        "\n",
        "    \n",
        "    \n",
        "    \n",
        "    \n",
        "\n",
        "\n",
        "1.   Both of the top rated apps are from social media/communication with above 4 rating(out of 5)\n",
        "2.  Rest all are below 3 rating\n",
        "3.   Reviews of all the 10 apps are of same level.\n",
        "4.   Exceptional difference in ratings are seen in between top 2 and rest of the top 10\n",
        "\n",
        "\n",
        "\n"
      ],
      "metadata": {
        "id": "Qp13pnNzphqQ"
      }
    },
    {
      "cell_type": "markdown",
      "source": [
        "##### 3. Will the gained insights help creating a positive business impact?\n",
        "Are there any insights that lead to negative growth? Justify with specific reason."
      ],
      "metadata": {
        "id": "JMzcOPDDphqR"
      }
    },
    {
      "cell_type": "markdown",
      "source": [
        "This in here shows the quality differences betweeen the apps. Even though the downloads are high there is a huge difference in ratings. These stats definetly affect the business negatively. As people start to compare and go with the app that is good at both functionality and service. One of the best way to improve these ratings is to go through the reviews and try to find where the users are facing problems and fix it."
      ],
      "metadata": {
        "id": "R4Ka1PC2phqR"
      }
    },
    {
      "cell_type": "markdown",
      "source": [
        "#### Chart - 11"
      ],
      "metadata": {
        "id": "x-EpHcCOp1ci"
      }
    },
    {
      "cell_type": "code",
      "source": [
        "# Chart - 11 visualization code\n",
        "sentiment_subjectivity_df = user_review_copy['Sentiment_Subjectivity']\n",
        "plt.style.use(\"fivethirtyeight\")\n",
        "plt.figure(figsize=(10,5))\n",
        "\n",
        "plt.figure(figsize=(10, 6))\n",
        "sns.histplot(sentiment_subjectivity_df,  color='c')\n",
        "\n",
        "plt.xlabel(\"Subjectivity\")\n",
        "plt.ylabel(\"Frequency\")\n",
        "plt.title('Distribution of Subjectivity')\n",
        "\n",
        "plt.tight_layout()\n",
        "plt.show()"
      ],
      "metadata": {
        "id": "mAQTIvtqp1cj"
      },
      "execution_count": null,
      "outputs": []
    },
    {
      "cell_type": "markdown",
      "source": [
        "##### 1. Why did you pick the specific chart?"
      ],
      "metadata": {
        "id": "X_VqEhTip1ck"
      }
    },
    {
      "cell_type": "markdown",
      "source": [
        "To know the distribution of Subjectivity"
      ],
      "metadata": {
        "id": "-vsMzt_np1ck"
      }
    },
    {
      "cell_type": "markdown",
      "source": [
        "##### 2. What is/are the insight(s) found from the chart?"
      ],
      "metadata": {
        "id": "8zGJKyg5p1ck"
      }
    },
    {
      "cell_type": "markdown",
      "source": [
        "\n",
        "\n",
        "1. Sentiment subjectivity lies between range 0.4 to 0.7.  \n",
        "    \n",
        "2.  We observed that maximum number of users post reviews to the apps which suits their experience.\n",
        "\n"
      ],
      "metadata": {
        "id": "ZYdMsrqVp1ck"
      }
    },
    {
      "cell_type": "markdown",
      "source": [
        "##### 3. Will the gained insights help creating a positive business impact?\n",
        "Are there any insights that lead to negative growth? Justify with specific reason."
      ],
      "metadata": {
        "id": "PVzmfK_Ep1ck"
      }
    },
    {
      "cell_type": "markdown",
      "source": [
        "As we know sentiment subjectivity refers to the degree to which a piece of writing expresses personal opinions, feelings, or biases. And everyone has their own point of view. So, Sentiment subjectivity is inversely proportional to the growth of business"
      ],
      "metadata": {
        "id": "druuKYZpp1ck"
      }
    },
    {
      "cell_type": "markdown",
      "source": [
        "#### Chart - 12"
      ],
      "metadata": {
        "id": "n3dbpmDWp1ck"
      }
    },
    {
      "cell_type": "code",
      "source": [
        "# Chart - 12 visualization code\n",
        "plt.style.use(\"fivethirtyeight\")\n",
        "\n",
        "plt.figure(figsize=(10, 6))  # Set the figure size\n",
        "\n",
        "sns.scatterplot(x=user_review_copy['Sentiment_Subjectivity'], y=user_review_copy['Sentiment_Polarity'],\n",
        "                hue=user_review_copy['Sentiment'], edgecolor='white', palette=\"coolwarm\")\n",
        "\n",
        "plt.title(\"Relationship between Sentiment Subjectivity and Sentiment Polarity\")\n",
        "plt.xlabel(\"Sentiment Subjectivity\")\n",
        "plt.ylabel(\"Sentiment Polarity\")\n",
        "\n",
        "plt.tight_layout()\n",
        "plt.show()"
      ],
      "metadata": {
        "id": "bwevp1tKp1ck"
      },
      "execution_count": null,
      "outputs": []
    },
    {
      "cell_type": "markdown",
      "source": [
        "##### 1. Why did you pick the specific chart?"
      ],
      "metadata": {
        "id": "ylSl6qgtp1ck"
      }
    },
    {
      "cell_type": "markdown",
      "source": [
        "To plot the relationship between sentiment_subjectivity and sentiment_polarity in scatter plot"
      ],
      "metadata": {
        "id": "m2xqNkiQp1ck"
      }
    },
    {
      "cell_type": "markdown",
      "source": [
        "##### 2. What is/are the insight(s) found from the chart?"
      ],
      "metadata": {
        "id": "ZWILFDl5p1ck"
      }
    },
    {
      "cell_type": "markdown",
      "source": [
        "\n",
        "\n",
        "\n",
        "*   The scatter plot which concludes that sentiment subjectivity is not likely proportional to sentiment polarity always\n",
        "*   Proportional variance is too high or too low\n",
        "\n"
      ],
      "metadata": {
        "id": "x-lUsV2mp1ck"
      }
    },
    {
      "cell_type": "markdown",
      "source": [
        "##### 3. Will the gained insights help creating a positive business impact?\n",
        "Are there any insights that lead to negative growth? Justify with specific reason."
      ],
      "metadata": {
        "id": "M7G43BXep1ck"
      }
    },
    {
      "cell_type": "markdown",
      "source": [
        "Depending on the above plot yes and no as well. Reason is when polarity is positive and subjectivity is high it is a good product for individual. And the product is a complete garbage when subjectivity is low and polarity is negative"
      ],
      "metadata": {
        "id": "5wwDJXsLp1cl"
      }
    },
    {
      "cell_type": "markdown",
      "source": [
        "#### Chart - 13"
      ],
      "metadata": {
        "id": "Ag9LCva-p1cl"
      }
    },
    {
      "cell_type": "code",
      "source": [
        "# Chart - 13 visualization code\n",
        "plt.style.use(\"fivethirtyeight\")\n",
        "user_review_copy['Sentiment'].value_counts().plot(kind='pie', explode=(0.1, 0.1, 0.1), shadow=True, autopct='%1.2f%%', pctdistance=1.1, labeldistance=1.5)\n",
        "\n",
        "plt.title(\"Sentiment Distribution\")\n",
        "plt.tight_layout()\n",
        "plt.show()"
      ],
      "metadata": {
        "id": "EUfxeq9-p1cl"
      },
      "execution_count": null,
      "outputs": []
    },
    {
      "cell_type": "markdown",
      "source": [
        "##### 1. Why did you pick the specific chart?"
      ],
      "metadata": {
        "id": "E6MkPsBcp1cl"
      }
    },
    {
      "cell_type": "markdown",
      "source": [
        "To plot the sentiment percentage analysis"
      ],
      "metadata": {
        "id": "V22bRsFWp1cl"
      }
    },
    {
      "cell_type": "markdown",
      "source": [
        "##### 2. What is/are the insight(s) found from the chart?"
      ],
      "metadata": {
        "id": "2cELzS2fp1cl"
      }
    },
    {
      "cell_type": "markdown",
      "source": [
        "\n",
        "    \n",
        "    \n",
        "\n",
        "\n",
        "1.   Most of the sentiment is positive\n",
        "2.   Users review apps based on thier own personal experience rather overall analogy\n",
        "\n"
      ],
      "metadata": {
        "id": "ozQPc2_Ip1cl"
      }
    },
    {
      "cell_type": "markdown",
      "source": [
        "##### 3. Will the gained insights help creating a positive business impact?\n",
        "Are there any insights that lead to negative growth? Justify with specific reason."
      ],
      "metadata": {
        "id": "3MPXvC8up1cl"
      }
    },
    {
      "cell_type": "markdown",
      "source": [
        "This definetly has hindrance on business growth, as most people think and behave in different ways"
      ],
      "metadata": {
        "id": "GL8l1tdLp1cl"
      }
    },
    {
      "cell_type": "markdown",
      "source": [
        "## **5. Solution to Business Objective**"
      ],
      "metadata": {
        "id": "JcMwzZxoAimU"
      }
    },
    {
      "cell_type": "markdown",
      "source": [
        "#### What do you suggest the client to achieve Business Objective ?\n",
        "Explain Briefly."
      ],
      "metadata": {
        "id": "8G2x9gOozGDZ"
      }
    },
    {
      "cell_type": "markdown",
      "source": [
        "In this project, we conducted an analysis of the Play Store using the provided data. Our analysis aimed to enhance app properties during the launch and identify areas for common updates across different categories. Cleaning and preparing the data were prioritized to ensure clear insights into Play Store apps.\n",
        "\n",
        "Based on our analysis, we recommend the following actions for the client:\n",
        "\n",
        "\n",
        "1.   Prioritize the development of more updated and useful free apps, as they are widely preferred by users.\n",
        "\n",
        "2.   Regularly update existing apps to attract new users and maintain user engagement.\n",
        "\n",
        "3.   Explore opportunities in unexplored categories like events, beauty, art, etc., to cater to users with specific interests in these areas.\n",
        "4.   Focus on providing high-quality content in apps, as this can positively impact the app market and user satisfaction.\n",
        "\n",
        "\n",
        "5.   Understand and cater to varying user sentiments throughout their app usage journey, emphasizing features that align with the majority of users' preferences.\n",
        "\n",
        "By implementing these recommendations, the client can potentially enhance their app offerings, attract more users, and achieve better results in the competitive app market.\n",
        "\n"
      ],
      "metadata": {
        "id": "pASKb0qOza21"
      }
    },
    {
      "cell_type": "markdown",
      "source": [
        "# **Conclusion**"
      ],
      "metadata": {
        "id": "gCX9965dhzqZ"
      }
    },
    {
      "cell_type": "markdown",
      "source": [
        "Through exploratory data analysis, we have identified several trends and made key assumptions that can potentially lead to app success in the Play Store.\n",
        "\n",
        "\n",
        "*   Approximately 92% of the apps are free, indicating a high demand for free apps among users.\n",
        "*   Around 82% of apps have no age restrictions, broadening their potential user base.\n",
        "\n",
        "*   The Family and Games categories are highly competitive in both paid and free apps.\n",
        "*   The top three categories based on app count are Family, Game, and Tools.\n",
        "\n",
        "\n",
        "*   A significant number of apps have a size less than 50 MB and a rating above 4.0, indicating user preference for compact yet high-quality apps.\n",
        "*   he Game category has the highest average app installs, making it an attractive category for developers.\n",
        "\n",
        "\n",
        "*   The Finance category has the highest average installation fee for paid apps.\n",
        "*    Overall, sentiment analysis reveals positive sentiments dominate, with 64% positive, 22% negative, and 13% neutral sentiments.\n",
        "\n",
        "\n",
        "*   Sentiment Polarity is not highly correlated with Sentiment Subjectivity, indicating complex user emotions and opinions.\n",
        "\n",
        "Utilizing these insights, developers can focus on creating free apps in the Family and Games categories while considering factors like app size and user ratings. Additionally, exploring the Finance category for potential paid apps with higher installation fees might be beneficial. Improving app quality, especially for larger-sized apps, can lead to greater user engagement and success.\n",
        "\n",
        "\n",
        "\n",
        "\n",
        "\n",
        "\n",
        "\n",
        "\n",
        "\n"
      ],
      "metadata": {
        "id": "Fjb1IsQkh3yE"
      }
    },
    {
      "cell_type": "markdown",
      "source": [
        "### ***Hurrah! You have successfully completed your EDA Capstone Project !!!***"
      ],
      "metadata": {
        "id": "gIfDvo9L0UH2"
      }
    }
  ]
}